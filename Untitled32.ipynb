{
 "cells": [
  {
   "cell_type": "code",
   "execution_count": 11,
   "id": "41ba9196-ab98-4b2c-9572-9b9fd229a37a",
   "metadata": {},
   "outputs": [
    {
     "name": "stdout",
     "output_type": "stream",
     "text": [
      "<class 'list'>\n",
      "<class 'numpy.ndarray'>\n"
     ]
    },
    {
     "data": {
      "text/plain": [
       "\"<class 'list'>\\n<class 'numpy.ndarray'>\\nThe datatypes are differnt.\""
      ]
     },
     "execution_count": 11,
     "metadata": {},
     "output_type": "execute_result"
    }
   ],
   "source": [
    "#1ans)\n",
    "import numpy as np\n",
    "list_ = [ '1 ', '2', '3' , '4' , '5' ]\n",
    "array_list = np.array(object = list_)\n",
    "print(type(list_))\n",
    "print(type(array_list))\n",
    "\"\"\"<class 'list'>\n",
    "<class 'numpy.ndarray'>\n",
    "The datatypes are differnt.\"\"\""
   ]
  },
  {
   "cell_type": "code",
   "execution_count": 9,
   "id": "9f37ba44-d290-4337-a107-cdb95d25acfc",
   "metadata": {},
   "outputs": [
    {
     "name": "stdout",
     "output_type": "stream",
     "text": [
      "<class 'str'>\n",
      "<class 'str'>\n",
      "<class 'str'>\n",
      "<class 'str'>\n",
      "<class 'str'>\n",
      "<class 'numpy.str_'>\n",
      "<class 'numpy.str_'>\n",
      "<class 'numpy.str_'>\n",
      "<class 'numpy.str_'>\n",
      "<class 'numpy.str_'>\n"
     ]
    }
   ],
   "source": [
    "#2)\n",
    "for i in list_:\n",
    "    print(type(i))\n",
    "for j in array_list:\n",
    "    print(type(j))"
   ]
  },
  {
   "cell_type": "code",
   "execution_count": 14,
   "id": "ae5bd604-d4e9-4720-a83f-efb33a6f31f0",
   "metadata": {},
   "outputs": [
    {
     "name": "stdout",
     "output_type": "stream",
     "text": [
      "<class 'list'>\n",
      "<class 'numpy.ndarray'>\n",
      "<class 'str'>\n",
      "<class 'str'>\n",
      "<class 'str'>\n",
      "<class 'str'>\n",
      "<class 'str'>\n",
      "<class 'numpy.int64'>\n",
      "<class 'numpy.int64'>\n",
      "<class 'numpy.int64'>\n",
      "<class 'numpy.int64'>\n",
      "<class 'numpy.int64'>\n"
     ]
    }
   ],
   "source": [
    "#3)\n",
    "import numpy as np\n",
    "list_ = [ '1 ', '2', '3' , '4' , '5' ]\n",
    "array_list = np.array(object = list_, dtype = int)\n",
    "print(type(list_))\n",
    "print(type(array_list))\n",
    "for i in list_:\n",
    "    print(type(i))\n",
    "for j in array_list:\n",
    "    print(type(j))\n",
    "\n",
    "\"\"\"the data type of array changes\"\"\""
   ]
  },
  {
   "cell_type": "code",
   "execution_count": 15,
   "id": "8ce9bd4e-3725-4782-8f7d-ca090617e41c",
   "metadata": {},
   "outputs": [],
   "source": [
    "#4)\n",
    "import numpy as np\n",
    "num_list = [ [ 1 , 2 , 3 ] , [ 4 , 5 , 6 ] ]\n",
    "num_array = np.array(object = num_list)\n",
    "#1\n",
    "shape=np.shape(num_array)\n",
    "#2\n",
    "size=np.size(num_array)\n"
   ]
  },
  {
   "cell_type": "code",
   "execution_count": 18,
   "id": "2bfc2987-dda7-4648-ab67-781dcc079e76",
   "metadata": {},
   "outputs": [
    {
     "name": "stdout",
     "output_type": "stream",
     "text": [
      "[[0. 0. 0.]\n",
      " [0. 0. 0.]\n",
      " [0. 0. 0.]]\n"
     ]
    }
   ],
   "source": [
    "#5)\n",
    "import numpy as np\n",
    "\n",
    "\n",
    "# Create a 3x3 numpy array containing zeros\n",
    "zero_matrix = np.zeros((3, 3))\n",
    "\n",
    "print(zero_matrix)\n"
   ]
  },
  {
   "cell_type": "code",
   "execution_count": 21,
   "id": "e08655b6-9f17-4083-b24b-d00b13b778ea",
   "metadata": {},
   "outputs": [
    {
     "name": "stdout",
     "output_type": "stream",
     "text": [
      "[[1. 0. 0. 0. 0.]\n",
      " [0. 1. 0. 0. 0.]\n",
      " [0. 0. 1. 0. 0.]\n",
      " [0. 0. 0. 1. 0.]\n",
      " [0. 0. 0. 0. 1.]]\n"
     ]
    }
   ],
   "source": [
    "#6)\n",
    "import numpy as np\n",
    "iden_matrix=np.identity(5)\n",
    "print(iden_matrix)"
   ]
  },
  {
   "cell_type": "code",
   "execution_count": null,
   "id": "2d9f96df-41a8-42b7-9df9-0321e49e337d",
   "metadata": {},
   "outputs": [],
   "source": []
  }
 ],
 "metadata": {
  "kernelspec": {
   "display_name": "Python 3 (ipykernel)",
   "language": "python",
   "name": "python3"
  },
  "language_info": {
   "codemirror_mode": {
    "name": "ipython",
    "version": 3
   },
   "file_extension": ".py",
   "mimetype": "text/x-python",
   "name": "python",
   "nbconvert_exporter": "python",
   "pygments_lexer": "ipython3",
   "version": "3.10.8"
  }
 },
 "nbformat": 4,
 "nbformat_minor": 5
}
